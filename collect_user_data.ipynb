{
 "cells": [
  {
   "cell_type": "code",
   "execution_count": 1,
   "metadata": {
    "collapsed": false
   },
   "outputs": [],
   "source": [
    "from tkinter import *\n",
    "import datetime\n",
    "import pandas as pd\n",
    "import csv\n",
    "\n",
    "### PARAMS ###\n",
    "n_questions=5\n",
    "choices=['a','b','c','d','e']\n",
    "session_data_raw_fname = 'session_data_raw.csv'\n",
    "session_data_featurized_fname = 'session_data_featurized.csv'\n",
    "\n",
    "### BUILD GUI ###\n",
    "root = Tk()\n",
    "frame = Frame(root).grid()\n",
    "answers = [StringVar() for _ in range(n_questions)]\n",
    "\n",
    "with open(session_data_raw_fname, 'wb') as csvfile:\n",
    "    filewriter = csv.writer(csvfile, delimiter=',')\n",
    "    filewriter.writerow(['question', 'answer', 'datetime'])\n",
    "\n",
    "def make_callback(question,answer):\n",
    "    def callback():\n",
    "        with open(session_data_raw_fname, 'a') as csvfile:\n",
    "            filewriter = csv.writer(csvfile, delimiter=',')\n",
    "            filewriter.writerow([question, answer, datetime.datetime.now()])\n",
    "    return callback\n",
    "\n",
    "for na,a in enumerate(answers):\n",
    "    for nc,c in enumerate(choices):\n",
    "        Label(root, text=str(na+1)+\")\").grid(row=na,column=0)\n",
    "        Radiobutton(frame, text=str(c), variable=a, value=c, command=make_callback(na+1,c)).grid(row=na,column=nc+1)\n",
    "\n",
    "### RUN GUI ###\n",
    "root.mainloop()\n",
    "with open(session_data_raw_fname, 'a') as csvfile:\n",
    "    filewriter = csv.writer(csvfile, delimiter=',')\n",
    "    filewriter.writerow(['','', datetime.datetime.now()])\n",
    "\n",
    "### COMPUTE USER DATA ###\n",
    "df = pd.read_csv(session_data_raw_fname)\n",
    "df['datetime'] = df['datetime'].apply(pd.to_datetime)\n",
    "df['duration'] = df['datetime'].diff().shift(-1)\n",
    "df = df.head(-1)\n",
    "df['question'] = df['question'].apply(lambda x: int(x))\n",
    "\n",
    "features = pd.DataFrame(df.groupby('question')['duration'].sum())\n",
    "features['answer_sequence'] = df.groupby('question')['answer'].sum()\n",
    "features.to_csv(session_data_featurized_fname)\n",
    "\n",
    "print features"
   ]
  },
  {
   "cell_type": "code",
   "execution_count": null,
   "metadata": {
    "collapsed": true
   },
   "outputs": [],
   "source": []
  }
 ],
 "metadata": {
  "kernelspec": {
   "display_name": "Python 2",
   "language": "python",
   "name": "python2"
  },
  "language_info": {
   "codemirror_mode": {
    "name": "ipython",
    "version": 2
   },
   "file_extension": ".py",
   "mimetype": "text/x-python",
   "name": "python",
   "nbconvert_exporter": "python",
   "pygments_lexer": "ipython2",
   "version": "2.7.13"
  }
 },
 "nbformat": 4,
 "nbformat_minor": 2
}
