{
 "cells": [
  {
   "cell_type": "code",
   "execution_count": 159,
   "metadata": {
    "collapsed": false
   },
   "outputs": [],
   "source": [
    "import textract\n",
    "import pandas as pd\n",
    "#text = textract.process('lsat_pdfs/270577485-LSAT-PT-72.pdf') -- encrypted\n",
    "text38 = textract.process('lsat_pdfs/270577397-LSAT-PT-38-pdf.pdf')\n",
    "text65 = textract.process('lsat_pdfs/270577461-LSAT-PT-65.pdf')\n",
    "text61 = textract.process('lsat_pdfs/270577450-LSAT-PT-61.pdf')\n",
    "text60 = textract.process('lsat_pdfs/270577448-LSAT-PT-60.pdf')\n",
    "text59 = textract.process('lsat_pdfs/270577444-LSAT-PT-59.pdf')\n",
    "#text = textract.process('lsat_pdfs/270577492-LSAT-PT-74.pdf') -- encrypted?\n",
    "#text = textract.process('lsat_pdfs/270577487-LSAT-PT-73.pdf') -- encrypted?"
   ]
  },
  {
   "cell_type": "code",
   "execution_count": 166,
   "metadata": {
    "collapsed": false
   },
   "outputs": [
    {
     "data": {
      "text/html": [
       "<div>\n",
       "<table border=\"1\" class=\"dataframe\">\n",
       "  <thead>\n",
       "    <tr style=\"text-align: right;\">\n",
       "      <th></th>\n",
       "      <th>section_number</th>\n",
       "      <th>section_type</th>\n",
       "      <th>section_contents</th>\n",
       "    </tr>\n",
       "  </thead>\n",
       "  <tbody>\n",
       "    <tr>\n",
       "      <th>0</th>\n",
       "      <td>1</td>\n",
       "      <td>LR</td>\n",
       "      <td>\\n\\n  1. \\n\\nIn a recent study of more than 4...</td>\n",
       "    </tr>\n",
       "    <tr>\n",
       "      <th>1</th>\n",
       "      <td>2</td>\n",
       "      <td>AR</td>\n",
       "      <td>\\n\\nQuestions 1–5\\n\\n  3.  Which one of the fo...</td>\n",
       "    </tr>\n",
       "    <tr>\n",
       "      <th>2</th>\n",
       "      <td>3</td>\n",
       "      <td>RC</td>\n",
       "      <td>\\n\\n(5)\\n\\n(10)\\n\\n(15)\\n\\n(20)\\n\\n(25)\\n\\n(30...</td>\n",
       "    </tr>\n",
       "    <tr>\n",
       "      <th>3</th>\n",
       "      <td>4</td>\n",
       "      <td>LR</td>\n",
       "      <td>\\n\\n  1.  When a forest is subject to acid ra...</td>\n",
       "    </tr>\n",
       "    <tr>\n",
       "      <th>0</th>\n",
       "      <td>1</td>\n",
       "      <td>LR</td>\n",
       "      <td>\\n\\n  1. \\n\\nIn a recent study of more than 4...</td>\n",
       "    </tr>\n",
       "    <tr>\n",
       "      <th>1</th>\n",
       "      <td>2</td>\n",
       "      <td>AR</td>\n",
       "      <td>\\n\\nQuestions 1–5\\n\\n  3.  Which one of the fo...</td>\n",
       "    </tr>\n",
       "    <tr>\n",
       "      <th>2</th>\n",
       "      <td>3</td>\n",
       "      <td>RC</td>\n",
       "      <td>\\n\\n(5)\\n\\n(10)\\n\\n(15)\\n\\n(20)\\n\\n(25)\\n\\n(30...</td>\n",
       "    </tr>\n",
       "    <tr>\n",
       "      <th>3</th>\n",
       "      <td>4</td>\n",
       "      <td>LR</td>\n",
       "      <td>\\n\\n  1.  When a forest is subject to acid ra...</td>\n",
       "    </tr>\n",
       "    <tr>\n",
       "      <th>0</th>\n",
       "      <td>1</td>\n",
       "      <td>RC</td>\n",
       "      <td>\\n\\n  1. \\n\\nIn a recent study of more than 4...</td>\n",
       "    </tr>\n",
       "    <tr>\n",
       "      <th>1</th>\n",
       "      <td>2</td>\n",
       "      <td>LR</td>\n",
       "      <td>\\n\\nQuestions 1–5\\n\\n  3.  Which one of the fo...</td>\n",
       "    </tr>\n",
       "    <tr>\n",
       "      <th>2</th>\n",
       "      <td>3</td>\n",
       "      <td>AR</td>\n",
       "      <td>\\n\\n(5)\\n\\n(10)\\n\\n(15)\\n\\n(20)\\n\\n(25)\\n\\n(30...</td>\n",
       "    </tr>\n",
       "    <tr>\n",
       "      <th>3</th>\n",
       "      <td>4</td>\n",
       "      <td>LR</td>\n",
       "      <td>\\n\\n  1.  When a forest is subject to acid ra...</td>\n",
       "    </tr>\n",
       "    <tr>\n",
       "      <th>0</th>\n",
       "      <td>1</td>\n",
       "      <td>LR</td>\n",
       "      <td>\\n\\n  1. \\n\\nIn a recent study of more than 4...</td>\n",
       "    </tr>\n",
       "    <tr>\n",
       "      <th>1</th>\n",
       "      <td>2</td>\n",
       "      <td>AR</td>\n",
       "      <td>\\n\\nQuestions 1–5\\n\\n  3.  Which one of the fo...</td>\n",
       "    </tr>\n",
       "    <tr>\n",
       "      <th>2</th>\n",
       "      <td>3</td>\n",
       "      <td>LR</td>\n",
       "      <td>\\n\\n(5)\\n\\n(10)\\n\\n(15)\\n\\n(20)\\n\\n(25)\\n\\n(30...</td>\n",
       "    </tr>\n",
       "    <tr>\n",
       "      <th>3</th>\n",
       "      <td>4</td>\n",
       "      <td>RC</td>\n",
       "      <td>\\n\\n  1.  When a forest is subject to acid ra...</td>\n",
       "    </tr>\n",
       "    <tr>\n",
       "      <th>0</th>\n",
       "      <td>1</td>\n",
       "      <td>AR</td>\n",
       "      <td>\\n\\n  1. \\n\\nIn a recent study of more than 4...</td>\n",
       "    </tr>\n",
       "    <tr>\n",
       "      <th>1</th>\n",
       "      <td>2</td>\n",
       "      <td>LR</td>\n",
       "      <td>\\n\\nQuestions 1–5\\n\\n  3.  Which one of the fo...</td>\n",
       "    </tr>\n",
       "    <tr>\n",
       "      <th>2</th>\n",
       "      <td>3</td>\n",
       "      <td>LR</td>\n",
       "      <td>\\n\\n(5)\\n\\n(10)\\n\\n(15)\\n\\n(20)\\n\\n(25)\\n\\n(30...</td>\n",
       "    </tr>\n",
       "    <tr>\n",
       "      <th>3</th>\n",
       "      <td>4</td>\n",
       "      <td>RC</td>\n",
       "      <td>\\n\\n  1.  When a forest is subject to acid ra...</td>\n",
       "    </tr>\n",
       "  </tbody>\n",
       "</table>\n",
       "</div>"
      ],
      "text/plain": [
       "   section_number section_type  \\\n",
       "0               1           LR   \n",
       "1               2           AR   \n",
       "2               3           RC   \n",
       "3               4           LR   \n",
       "0               1           LR   \n",
       "1               2           AR   \n",
       "2               3           RC   \n",
       "3               4           LR   \n",
       "0               1           RC   \n",
       "1               2           LR   \n",
       "2               3           AR   \n",
       "3               4           LR   \n",
       "0               1           LR   \n",
       "1               2           AR   \n",
       "2               3           LR   \n",
       "3               4           RC   \n",
       "0               1           AR   \n",
       "1               2           LR   \n",
       "2               3           LR   \n",
       "3               4           RC   \n",
       "\n",
       "                                    section_contents  \n",
       "0   \\n\\n  1. \\n\\nIn a recent study of more than 4...  \n",
       "1  \\n\\nQuestions 1–5\\n\\n  3.  Which one of the fo...  \n",
       "2  \\n\\n(5)\\n\\n(10)\\n\\n(15)\\n\\n(20)\\n\\n(25)\\n\\n(30...  \n",
       "3   \\n\\n  1.  When a forest is subject to acid ra...  \n",
       "0   \\n\\n  1. \\n\\nIn a recent study of more than 4...  \n",
       "1  \\n\\nQuestions 1–5\\n\\n  3.  Which one of the fo...  \n",
       "2  \\n\\n(5)\\n\\n(10)\\n\\n(15)\\n\\n(20)\\n\\n(25)\\n\\n(30...  \n",
       "3   \\n\\n  1.  When a forest is subject to acid ra...  \n",
       "0   \\n\\n  1. \\n\\nIn a recent study of more than 4...  \n",
       "1  \\n\\nQuestions 1–5\\n\\n  3.  Which one of the fo...  \n",
       "2  \\n\\n(5)\\n\\n(10)\\n\\n(15)\\n\\n(20)\\n\\n(25)\\n\\n(30...  \n",
       "3   \\n\\n  1.  When a forest is subject to acid ra...  \n",
       "0   \\n\\n  1. \\n\\nIn a recent study of more than 4...  \n",
       "1  \\n\\nQuestions 1–5\\n\\n  3.  Which one of the fo...  \n",
       "2  \\n\\n(5)\\n\\n(10)\\n\\n(15)\\n\\n(20)\\n\\n(25)\\n\\n(30...  \n",
       "3   \\n\\n  1.  When a forest is subject to acid ra...  \n",
       "0   \\n\\n  1. \\n\\nIn a recent study of more than 4...  \n",
       "1  \\n\\nQuestions 1–5\\n\\n  3.  Which one of the fo...  \n",
       "2  \\n\\n(5)\\n\\n(10)\\n\\n(15)\\n\\n(20)\\n\\n(25)\\n\\n(30...  \n",
       "3   \\n\\n  1.  When a forest is subject to acid ra...  "
      ]
     },
     "execution_count": 166,
     "metadata": {},
     "output_type": "execute_result"
    }
   ],
   "source": [
    "structure(text38).append(structure(text65)).append(structure(text61)).append(structure(text60)).append(structure(text59))"
   ]
  },
  {
   "cell_type": "code",
   "execution_count": 160,
   "metadata": {
    "collapsed": true
   },
   "outputs": [],
   "source": [
    "def structure(text,section_begin='answer sheet.',section_end='S T O P'):\n",
    "    \n",
    "    ### SPLIT BY SECTION ###\n",
    "    split1 = text.split(section_begin)\n",
    "    \n",
    "    LR1 = split1[0].find('Logical')\n",
    "    LR2 = LR1 + split1[0][LR1+1:].find('Logical')\n",
    "    AR = split1[0].find('Analytical')\n",
    "    RC = split1[0].find('Reading')\n",
    "    section_order = [x for _,x in sorted(zip([LR1,LR2,AR,RC],[\"LR\",\"LR\",\"AR\",\"RC\"]))]\n",
    "    \n",
    "    df = pd.DataFrame({'section_number':[1,2,3,4], 'section_type':section_order})\n",
    "    df['section_contents'] = df['section_number'].apply(lambda n: splitted[n].split(section_end)[0])\n",
    "    \n",
    "    ### GET ANSWER KEY ###\n",
    "    \n",
    "    ### GET SCORE RANGE ###\n",
    "    \n",
    "    ### SPLIT BY QUESTION ###\n",
    "    \n",
    "    ### SPLIT BY ANSWER ###\n",
    "    \n",
    "    return df"
   ]
  },
  {
   "cell_type": "markdown",
   "metadata": {},
   "source": [
    "KEEP WORKING FROM HERE ON"
   ]
  },
  {
   "cell_type": "code",
   "execution_count": 157,
   "metadata": {
    "collapsed": false
   },
   "outputs": [
    {
     "ename": "IndexError",
     "evalue": "list index out of range",
     "output_type": "error",
     "traceback": [
      "\u001b[0;31m---------------------------------------------------------------------------\u001b[0m",
      "\u001b[0;31mIndexError\u001b[0m                                Traceback (most recent call last)",
      "\u001b[0;32m<ipython-input-157-29072ef052f1>\u001b[0m in \u001b[0;36m<module>\u001b[0;34m()\u001b[0m\n\u001b[1;32m      1\u001b[0m \u001b[0mscores_token\u001b[0m \u001b[0;34m=\u001b[0m \u001b[0;34m'HIGHEST'\u001b[0m\u001b[0;34m\u001b[0m\u001b[0m\n\u001b[0;32m----> 2\u001b[0;31m \u001b[0mscore_ranges\u001b[0m \u001b[0;34m=\u001b[0m \u001b[0msplitted\u001b[0m\u001b[0;34m[\u001b[0m\u001b[0;36m4\u001b[0m\u001b[0;34m]\u001b[0m\u001b[0;34m.\u001b[0m\u001b[0msplit\u001b[0m\u001b[0;34m(\u001b[0m\u001b[0mscores_token\u001b[0m\u001b[0;34m)\u001b[0m\u001b[0;34m[\u001b[0m\u001b[0;36m1\u001b[0m\u001b[0;34m]\u001b[0m\u001b[0;34m.\u001b[0m\u001b[0msplit\u001b[0m\u001b[0;34m(\u001b[0m\u001b[0;34m'\\n\\n'\u001b[0m\u001b[0;34m)\u001b[0m\u001b[0;34m[\u001b[0m\u001b[0;36m1\u001b[0m\u001b[0;34m:\u001b[0m\u001b[0;36m3\u001b[0m\u001b[0;34m]\u001b[0m\u001b[0;34m\u001b[0m\u001b[0m\n\u001b[0m",
      "\u001b[0;31mIndexError\u001b[0m: list index out of range"
     ]
    }
   ],
   "source": [
    "scores_token = 'HIGHEST'\n",
    "score_ranges = splitted[4].split(scores_token)[1].split('\\n\\n')[1:3]"
   ]
  },
  {
   "cell_type": "code",
   "execution_count": 127,
   "metadata": {
    "collapsed": false
   },
   "outputs": [],
   "source": [
    "key = [x for x in splitted[4].split(scores_token)[1].split('\\n\\n')[5:-7] if x[0] != \"S\"]\n",
    "df['key'] = df['section_number'].apply(lambda x: key[0+x-1]+key[8+x-1]+key[4+x-1]+key[12+x-1])"
   ]
  },
  {
   "cell_type": "code",
   "execution_count": 132,
   "metadata": {
    "collapsed": false
   },
   "outputs": [
    {
     "data": {
      "text/html": [
       "<div>\n",
       "<table border=\"1\" class=\"dataframe\">\n",
       "  <thead>\n",
       "    <tr style=\"text-align: right;\">\n",
       "      <th></th>\n",
       "      <th>section_number</th>\n",
       "      <th>section_type</th>\n",
       "      <th>section_contents</th>\n",
       "      <th>key</th>\n",
       "    </tr>\n",
       "  </thead>\n",
       "  <tbody>\n",
       "    <tr>\n",
       "      <th>0</th>\n",
       "      <td>1</td>\n",
       "      <td>LR</td>\n",
       "      <td>\\n\\n1. Physician:\\n\\nIn itself, exercise does ...</td>\n",
       "      <td>1. A\\n2. C\\n3.\\nE\\n4. C\\nE\\n5.\\n6.\\nE\\n7. DE\\n...</td>\n",
       "    </tr>\n",
       "    <tr>\n",
       "      <th>1</th>\n",
       "      <td>2</td>\n",
       "      <td>AR</td>\n",
       "      <td>\\n\\nQuestions 1–7\\nA car drives into the cente...</td>\n",
       "      <td>1.\\nE\\n2. D\\n3. C\\n4. D\\n5. D\\nE\\n6.\\n7.\\nE8. ...</td>\n",
       "    </tr>\n",
       "    <tr>\n",
       "      <th>2</th>\n",
       "      <td>3</td>\n",
       "      <td>RC</td>\n",
       "      <td>\\n\\n(5)\\n\\n(10)\\n\\n(15)\\n\\n(20)\\n\\n(25)\\n\\n(30...</td>\n",
       "      <td>1. C\\n2. A\\n3.\\nE\\n4. B\\n5. D\\n6. A\\n7. D8. A\\...</td>\n",
       "    </tr>\n",
       "    <tr>\n",
       "      <th>3</th>\n",
       "      <td>4</td>\n",
       "      <td>LR</td>\n",
       "      <td>\\n\\nQuestions 1–2\\nMs. Smith:\\n\\nI am upset th...</td>\n",
       "      <td>1. B\\n2. C\\n3.\\nE\\n4. A\\n5. B\\n6. B\\n7. B8. D\\...</td>\n",
       "    </tr>\n",
       "  </tbody>\n",
       "</table>\n",
       "</div>"
      ],
      "text/plain": [
       "   section_number section_type  \\\n",
       "0               1           LR   \n",
       "1               2           AR   \n",
       "2               3           RC   \n",
       "3               4           LR   \n",
       "\n",
       "                                    section_contents  \\\n",
       "0  \\n\\n1. Physician:\\n\\nIn itself, exercise does ...   \n",
       "1  \\n\\nQuestions 1–7\\nA car drives into the cente...   \n",
       "2  \\n\\n(5)\\n\\n(10)\\n\\n(15)\\n\\n(20)\\n\\n(25)\\n\\n(30...   \n",
       "3  \\n\\nQuestions 1–2\\nMs. Smith:\\n\\nI am upset th...   \n",
       "\n",
       "                                                 key  \n",
       "0  1. A\\n2. C\\n3.\\nE\\n4. C\\nE\\n5.\\n6.\\nE\\n7. DE\\n...  \n",
       "1  1.\\nE\\n2. D\\n3. C\\n4. D\\n5. D\\nE\\n6.\\n7.\\nE8. ...  \n",
       "2  1. C\\n2. A\\n3.\\nE\\n4. B\\n5. D\\n6. A\\n7. D8. A\\...  \n",
       "3  1. B\\n2. C\\n3.\\nE\\n4. A\\n5. B\\n6. B\\n7. B8. D\\...  "
      ]
     },
     "execution_count": 132,
     "metadata": {},
     "output_type": "execute_result"
    }
   ],
   "source": [
    "df"
   ]
  },
  {
   "cell_type": "code",
   "execution_count": null,
   "metadata": {
    "collapsed": true
   },
   "outputs": [],
   "source": []
  }
 ],
 "metadata": {
  "kernelspec": {
   "display_name": "Python 2",
   "language": "python",
   "name": "python2"
  },
  "language_info": {
   "codemirror_mode": {
    "name": "ipython",
    "version": 2
   },
   "file_extension": ".py",
   "mimetype": "text/x-python",
   "name": "python",
   "nbconvert_exporter": "python",
   "pygments_lexer": "ipython2",
   "version": "2.7.13"
  }
 },
 "nbformat": 4,
 "nbformat_minor": 2
}
